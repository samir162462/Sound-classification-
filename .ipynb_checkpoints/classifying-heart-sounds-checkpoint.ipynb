{
 "cells": [
  {
   "cell_type": "code",
   "execution_count": 1,
   "metadata": {
    "collapsed": true
   },
   "outputs": [],
   "source": [
    "import os\n",
    "import librosa\n",
    "import tensorflow as tf\n",
    "import numpy as np\n",
    "import glob\n",
    "import matplotlib.pyplot as plt\n",
    "%matplotlib inline\n",
    "import pandas as pd"
   ]
  },
  {
   "cell_type": "code",
   "execution_count": 2,
   "metadata": {
    "collapsed": true
   },
   "outputs": [],
   "source": [
    "murmurs = os.listdir(\"murmur\")\n",
    "extrasystole = os.listdir(\"extrasystole\")\n",
    "normal = os.listdir(\"normal\")"
   ]
  },
  {
   "cell_type": "code",
   "execution_count": 3,
   "metadata": {
    "collapsed": true
   },
   "outputs": [],
   "source": [
    "murmur_sounds = []\n",
    "extrasystole_sounds = []\n",
    "normal_sounds = []"
   ]
  },
  {
   "cell_type": "code",
   "execution_count": null,
   "metadata": {
    "collapsed": true
   },
   "outputs": [],
   "source": [
    "for file in murmurs:\n",
    "    y,sr = librosa.load(os.path.join(\"murmur\",file))\n",
    "    murmur_sounds.append(y)\n",
    "for afile in extrasystole:\n",
    "    y1,sr1 = librosa.load(os.path.join(\"extrasystole\",afile))\n",
    "    extrasystole_sounds.append(y1)\n",
    "for bfile in normal:\n",
    "    y2,sr2 = librosa.load(os.path.join(\"normal\",bfile))\n",
    "    normal_sounds.append(y2)"
   ]
  },
  {
   "cell_type": "code",
   "execution_count": null,
   "metadata": {
    "collapsed": true
   },
   "outputs": [],
   "source": [
    "n_classes = 3\n",
    "x = tf.placeholder(tf.float32,[None,None])\n",
    "Y = tf.placeholder(tf.float32,[None,3])\n",
    "W = tf.Variable(tf.zeros())\n",
    "b = tf.Variable(tf.zeros(3))\n",
    "sess = tf.Session()\n",
    "pred = tf.nn.softmax(tf.matmul(x, W) + b)"
   ]
  },
  {
   "cell_type": "markdown",
   "metadata": {},
   "source": [
    "Upto here.... If you think you can help, Please :)"
   ]
  }
 ],
 "metadata": {
  "anaconda-cloud": {},
  "kernelspec": {
   "display_name": "Python [conda root]",
   "language": "python",
   "name": "conda-root-py"
  },
  "language_info": {
   "codemirror_mode": {
    "name": "ipython",
    "version": 3
   },
   "file_extension": ".py",
   "mimetype": "text/x-python",
   "name": "python",
   "nbconvert_exporter": "python",
   "pygments_lexer": "ipython3",
   "version": "3.5.2"
  }
 },
 "nbformat": 4,
 "nbformat_minor": 1
}
